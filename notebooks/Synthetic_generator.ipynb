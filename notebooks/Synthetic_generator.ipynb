{
  "nbformat": 4,
  "nbformat_minor": 0,
  "metadata": {
    "colab": {
      "provenance": []
    },
    "kernelspec": {
      "name": "python3",
      "display_name": "Python 3"
    },
    "language_info": {
      "name": "python"
    }
  },
  "cells": [
    {
      "cell_type": "markdown",
      "source": [
        "#  Synthetic Wellness Dataset Generator\n",
        "\n",
        "This notebook generates a **synthetic wellness dataset** that includes both **normal daily patterns** and **edge cases** for testing the robustness of wellness-related models.\n",
        "\n",
        "##  Purpose:\n",
        "- Simulate realistic health metrics: `Sleep`, `Mood`, and `Steps`\n",
        "- Create extreme and contradictory scenarios (edge cases) to help test ML models, scoring systems, or rule-based wellness assessments\n",
        "- Save the final dataset as a CSV for further use in model training or evaluation\n",
        "\n",
        "The final dataset includes:\n",
        "-  1800 normal entries (balanced lifestyle)\n",
        "-  200 edge cases (low sleep, zero steps, contradictory combinations, etc.)\n"
      ],
      "metadata": {
        "id": "p7HJVlhVzMnD"
      }
    },
    {
      "cell_type": "markdown",
      "source": [
        "###  Step 1: Import Required Libraries\n",
        "\n",
        "We'll start by importing the necessary libraries: `pandas` and `numpy`.\n"
      ],
      "metadata": {
        "id": "STKMmHo9yRD1"
      }
    },
    {
      "cell_type": "code",
      "source": [
        "import pandas as pd\n",
        "import numpy as np\n"
      ],
      "metadata": {
        "id": "xcZXbCZkyVrJ"
      },
      "execution_count": 2,
      "outputs": []
    },
    {
      "cell_type": "markdown",
      "source": [
        "###  Step 2: Set Random Seed\n",
        "\n",
        "Setting the random seed for reproducibility of results across runs.\n"
      ],
      "metadata": {
        "id": "SAXrWk6TyZ4Z"
      }
    },
    {
      "cell_type": "code",
      "source": [
        "# Set seed for reproducibility\n",
        "np.random.seed(42)\n"
      ],
      "metadata": {
        "id": "vxG40_qmyedK"
      },
      "execution_count": 3,
      "outputs": []
    },
    {
      "cell_type": "markdown",
      "source": [
        "###  Step 3: Define Function to Generate Normal Wellness Data\n",
        "\n",
        "This function simulates normal cases with:\n",
        "- Sleep: Normally distributed around 7.5 hours\n",
        "- Mood: Random integers between 4 and 8\n",
        "- Steps: Normally distributed around 8000\n"
      ],
      "metadata": {
        "id": "wwyQpbMmynIm"
      }
    },
    {
      "cell_type": "code",
      "source": [
        "def generate_normal_data(n):\n",
        "    sleep = np.random.normal(loc=7.5, scale=1.0, size=n).clip(3, 10)\n",
        "    mood = np.random.randint(4, 9, size=n)\n",
        "    steps = np.random.normal(loc=8000, scale=2000, size=n).clip(1000, 15000)\n",
        "    df = pd.DataFrame({'Sleep': sleep, 'Mood': mood, 'Steps': steps})\n",
        "    return df.round(3)\n"
      ],
      "metadata": {
        "id": "RIB5qspiymYJ"
      },
      "execution_count": 4,
      "outputs": []
    },
    {
      "cell_type": "markdown",
      "source": [
        "###  Step 4: Define Function to Generate Edge Case Data\n",
        "\n",
        "This function creates edge scenarios to test robustness of models:\n",
        "- Extremely low or high sleep\n",
        "- Zero sleep or steps\n",
        "- Contradictory or unusual combinations\n",
        "- Ideal and worst-case scenarios\n"
      ],
      "metadata": {
        "id": "hbCEYXJvysFQ"
      }
    },
    {
      "cell_type": "code",
      "source": [
        "def generate_edge_cases():\n",
        "    edge_data = []\n",
        "\n",
        "    for _ in range(50):  # Very low sleep\n",
        "        edge_data.append([np.random.uniform(0.5, 2.5), np.random.randint(1, 6), np.random.randint(1000, 8000)])\n",
        "\n",
        "    for _ in range(50):  # Oversleeping\n",
        "        edge_data.append([np.random.uniform(10.5, 12), np.random.randint(3, 7), np.random.randint(1000, 10000)])\n",
        "\n",
        "    for _ in range(25):  # Zero sleep\n",
        "        edge_data.append([0, np.random.randint(1, 5), np.random.randint(100, 5000)])\n",
        "\n",
        "    for _ in range(25):  # High mood, poor sleep/steps\n",
        "        edge_data.append([np.random.uniform(2, 4), 9, np.random.randint(200, 2000)])\n",
        "\n",
        "    for _ in range(50):  # Sedentary lifestyle\n",
        "        edge_data.append([np.random.uniform(6, 8), np.random.randint(2, 6), 0])\n",
        "\n",
        "    for _ in range(50):  # Very active users\n",
        "        edge_data.append([np.random.uniform(6, 9), np.random.randint(6, 10), np.random.randint(16000, 20000)])\n",
        "\n",
        "    for _ in range(25):  # Perfect balance\n",
        "        edge_data.append([8, 9, 10000])\n",
        "\n",
        "    for _ in range(25):  # Worst values\n",
        "        edge_data.append([0, 1, 0])\n",
        "\n",
        "    for _ in range(25):  # Contradictory: high sleep + mood, low steps\n",
        "        edge_data.append([np.random.uniform(9, 10), 9, np.random.randint(100, 1000)])\n",
        "\n",
        "    for _ in range(25):  # Contradictory: low sleep, high steps, low mood\n",
        "        edge_data.append([np.random.uniform(2, 4), 2, np.random.randint(12000, 18000)])\n",
        "\n",
        "    edge_df = pd.DataFrame(edge_data, columns=[\"Sleep\", \"Mood\", \"Steps\"])\n",
        "    return edge_df.round(3)\n"
      ],
      "metadata": {
        "id": "edRHlDMNywKM"
      },
      "execution_count": 5,
      "outputs": []
    },
    {
      "cell_type": "markdown",
      "source": [
        "### 🧪 Step 5: Generate Normal and Edge Case Datasets\n",
        "\n",
        "We now generate:\n",
        "- 1800 rows of normal data\n",
        "- 200 rows of edge case data\n"
      ],
      "metadata": {
        "id": "dhE880TFyvjJ"
      }
    },
    {
      "cell_type": "code",
      "source": [
        "normal_df = generate_normal_data(1800)\n",
        "edge_df = generate_edge_cases()\n"
      ],
      "metadata": {
        "id": "O0yrLwSly1xC"
      },
      "execution_count": 6,
      "outputs": []
    },
    {
      "cell_type": "markdown",
      "source": [
        "### 🔀 Step 6: Combine and Shuffle Data\n",
        "\n",
        "We combine the normal and edge case data into one dataset and shuffle it.\n"
      ],
      "metadata": {
        "id": "vu5LzMBny3_g"
      }
    },
    {
      "cell_type": "code",
      "source": [
        "full_df = pd.concat([normal_df, edge_df], ignore_index=True)\n",
        "full_df = full_df.sample(frac=1, random_state=42).reset_index(drop=True)\n"
      ],
      "metadata": {
        "id": "9eqKLzmKy6O_"
      },
      "execution_count": 7,
      "outputs": []
    },
    {
      "cell_type": "markdown",
      "source": [
        "### 💾 Step 7: Save the Final Dataset\n",
        "\n",
        "Save the combined dataset to a CSV file for use in model training or analysis.\n"
      ],
      "metadata": {
        "id": "PKNI26Bzy9LB"
      }
    },
    {
      "cell_type": "code",
      "source": [
        "full_df.to_csv(\"synthetic_wellness_dataset.csv\", index=False)\n",
        "print(\"Dataset generated and saved as 'synthetic_wellness_dataset.csv'\")"
      ],
      "metadata": {
        "colab": {
          "base_uri": "https://localhost:8080/"
        },
        "id": "Y4O9POlEy-e2",
        "outputId": "8469137a-31ab-4495-c50c-16e1fe0e65e2"
      },
      "execution_count": 10,
      "outputs": [
        {
          "output_type": "stream",
          "name": "stdout",
          "text": [
            "Dataset generated and saved as 'synthetic_wellness_dataset.csv'\n"
          ]
        }
      ]
    }
  ]
}